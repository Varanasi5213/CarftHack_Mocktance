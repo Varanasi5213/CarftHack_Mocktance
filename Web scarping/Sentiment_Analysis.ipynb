{
  "nbformat": 4,
  "nbformat_minor": 0,
  "metadata": {
    "colab": {
      "name": "Sentiment Analysis.ipynb",
      "provenance": []
    },
    "kernelspec": {
      "name": "python3",
      "display_name": "Python 3"
    },
    "language_info": {
      "name": "python"
    }
  },
  "cells": [
    {
      "cell_type": "code",
      "metadata": {
        "colab": {
          "base_uri": "https://localhost:8080/"
        },
        "id": "PVSVD8wwJBF4",
        "outputId": "32d2864b-40d1-4505-ed8f-75168049c64c"
      },
      "source": [
        "!pip install vaderSentiment"
      ],
      "execution_count": 2,
      "outputs": [
        {
          "output_type": "stream",
          "text": [
            "Collecting vaderSentiment\n",
            "\u001b[?25l  Downloading https://files.pythonhosted.org/packages/76/fc/310e16254683c1ed35eeb97386986d6c00bc29df17ce280aed64d55537e9/vaderSentiment-3.3.2-py2.py3-none-any.whl (125kB)\n",
            "\u001b[K     |████████████████████████████████| 133kB 3.9MB/s \n",
            "\u001b[?25hRequirement already satisfied: requests in /usr/local/lib/python3.7/dist-packages (from vaderSentiment) (2.23.0)\n",
            "Requirement already satisfied: chardet<4,>=3.0.2 in /usr/local/lib/python3.7/dist-packages (from requests->vaderSentiment) (3.0.4)\n",
            "Requirement already satisfied: urllib3!=1.25.0,!=1.25.1,<1.26,>=1.21.1 in /usr/local/lib/python3.7/dist-packages (from requests->vaderSentiment) (1.24.3)\n",
            "Requirement already satisfied: idna<3,>=2.5 in /usr/local/lib/python3.7/dist-packages (from requests->vaderSentiment) (2.10)\n",
            "Requirement already satisfied: certifi>=2017.4.17 in /usr/local/lib/python3.7/dist-packages (from requests->vaderSentiment) (2020.12.5)\n",
            "Installing collected packages: vaderSentiment\n",
            "Successfully installed vaderSentiment-3.3.2\n"
          ],
          "name": "stdout"
        }
      ]
    },
    {
      "cell_type": "code",
      "metadata": {
        "id": "40QJ3VF_IXr8"
      },
      "source": [
        "import pandas as pd\n",
        "from vaderSentiment.vaderSentiment import SentimentIntensityAnalyzer\n",
        "import datetime"
      ],
      "execution_count": 3,
      "outputs": []
    },
    {
      "cell_type": "code",
      "metadata": {
        "id": "AuJCJa3OJISu"
      },
      "source": [
        "df=pd.read_csv(\"NVIDIA.csv\")"
      ],
      "execution_count": 4,
      "outputs": []
    },
    {
      "cell_type": "code",
      "metadata": {
        "id": "l-8dW6RHJcVO"
      },
      "source": [
        "sentiment = pd.DataFrame(columns=['compound', 'negative', 'neutral', 'positive'])"
      ],
      "execution_count": 5,
      "outputs": []
    },
    {
      "cell_type": "code",
      "metadata": {
        "id": "liMEp1d9JvL-"
      },
      "source": [
        "analyser = SentimentIntensityAnalyzer()\n",
        "for i in range(len(df)):\n",
        "  d=analyser.polarity_scores(df[\"title\"].iloc[i])\n",
        "  sentiment.loc[i]= [d['compound']] + [d['neg']] + [d['neu']] + [d['pos']]"
      ],
      "execution_count": 6,
      "outputs": []
    },
    {
      "cell_type": "code",
      "metadata": {
        "colab": {
          "base_uri": "https://localhost:8080/",
          "height": 419
        },
        "id": "rJEf4e2JNwGF",
        "outputId": "df2b45dc-e543-496a-fb7b-acda45d0826b"
      },
      "source": [
        "sentiment"
      ],
      "execution_count": 7,
      "outputs": [
        {
          "output_type": "execute_result",
          "data": {
            "text/html": [
              "<div>\n",
              "<style scoped>\n",
              "    .dataframe tbody tr th:only-of-type {\n",
              "        vertical-align: middle;\n",
              "    }\n",
              "\n",
              "    .dataframe tbody tr th {\n",
              "        vertical-align: top;\n",
              "    }\n",
              "\n",
              "    .dataframe thead th {\n",
              "        text-align: right;\n",
              "    }\n",
              "</style>\n",
              "<table border=\"1\" class=\"dataframe\">\n",
              "  <thead>\n",
              "    <tr style=\"text-align: right;\">\n",
              "      <th></th>\n",
              "      <th>compound</th>\n",
              "      <th>negative</th>\n",
              "      <th>neutral</th>\n",
              "      <th>positive</th>\n",
              "    </tr>\n",
              "  </thead>\n",
              "  <tbody>\n",
              "    <tr>\n",
              "      <th>0</th>\n",
              "      <td>-0.5267</td>\n",
              "      <td>0.132</td>\n",
              "      <td>0.868</td>\n",
              "      <td>0.000</td>\n",
              "    </tr>\n",
              "    <tr>\n",
              "      <th>1</th>\n",
              "      <td>0.3612</td>\n",
              "      <td>0.000</td>\n",
              "      <td>0.444</td>\n",
              "      <td>0.556</td>\n",
              "    </tr>\n",
              "    <tr>\n",
              "      <th>2</th>\n",
              "      <td>0.0000</td>\n",
              "      <td>0.000</td>\n",
              "      <td>1.000</td>\n",
              "      <td>0.000</td>\n",
              "    </tr>\n",
              "    <tr>\n",
              "      <th>3</th>\n",
              "      <td>0.0000</td>\n",
              "      <td>0.000</td>\n",
              "      <td>1.000</td>\n",
              "      <td>0.000</td>\n",
              "    </tr>\n",
              "    <tr>\n",
              "      <th>4</th>\n",
              "      <td>0.7351</td>\n",
              "      <td>0.000</td>\n",
              "      <td>0.744</td>\n",
              "      <td>0.256</td>\n",
              "    </tr>\n",
              "    <tr>\n",
              "      <th>...</th>\n",
              "      <td>...</td>\n",
              "      <td>...</td>\n",
              "      <td>...</td>\n",
              "      <td>...</td>\n",
              "    </tr>\n",
              "    <tr>\n",
              "      <th>998</th>\n",
              "      <td>0.9993</td>\n",
              "      <td>0.034</td>\n",
              "      <td>0.840</td>\n",
              "      <td>0.127</td>\n",
              "    </tr>\n",
              "    <tr>\n",
              "      <th>999</th>\n",
              "      <td>0.9755</td>\n",
              "      <td>0.032</td>\n",
              "      <td>0.863</td>\n",
              "      <td>0.106</td>\n",
              "    </tr>\n",
              "    <tr>\n",
              "      <th>1000</th>\n",
              "      <td>0.9990</td>\n",
              "      <td>0.030</td>\n",
              "      <td>0.831</td>\n",
              "      <td>0.139</td>\n",
              "    </tr>\n",
              "    <tr>\n",
              "      <th>1001</th>\n",
              "      <td>0.7906</td>\n",
              "      <td>0.060</td>\n",
              "      <td>0.836</td>\n",
              "      <td>0.104</td>\n",
              "    </tr>\n",
              "    <tr>\n",
              "      <th>1002</th>\n",
              "      <td>0.7579</td>\n",
              "      <td>0.069</td>\n",
              "      <td>0.832</td>\n",
              "      <td>0.099</td>\n",
              "    </tr>\n",
              "  </tbody>\n",
              "</table>\n",
              "<p>1003 rows × 4 columns</p>\n",
              "</div>"
            ],
            "text/plain": [
              "      compound  negative  neutral  positive\n",
              "0      -0.5267     0.132    0.868     0.000\n",
              "1       0.3612     0.000    0.444     0.556\n",
              "2       0.0000     0.000    1.000     0.000\n",
              "3       0.0000     0.000    1.000     0.000\n",
              "4       0.7351     0.000    0.744     0.256\n",
              "...        ...       ...      ...       ...\n",
              "998     0.9993     0.034    0.840     0.127\n",
              "999     0.9755     0.032    0.863     0.106\n",
              "1000    0.9990     0.030    0.831     0.139\n",
              "1001    0.7906     0.060    0.836     0.104\n",
              "1002    0.7579     0.069    0.832     0.099\n",
              "\n",
              "[1003 rows x 4 columns]"
            ]
          },
          "metadata": {
            "tags": []
          },
          "execution_count": 7
        }
      ]
    },
    {
      "cell_type": "code",
      "metadata": {
        "id": "DCgMehOBOINw"
      },
      "source": [
        "frames = [df, sentiment]\n",
        "\n",
        "result = pd.concat(frames,axis=1)"
      ],
      "execution_count": 10,
      "outputs": []
    },
    {
      "cell_type": "code",
      "metadata": {
        "colab": {
          "base_uri": "https://localhost:8080/",
          "height": 606
        },
        "id": "ACNshte4hfvt",
        "outputId": "aa8fd8e6-9caf-4560-b747-cc6662e11b5c"
      },
      "source": [
        "result"
      ],
      "execution_count": 11,
      "outputs": [
        {
          "output_type": "execute_result",
          "data": {
            "text/html": [
              "<div>\n",
              "<style scoped>\n",
              "    .dataframe tbody tr th:only-of-type {\n",
              "        vertical-align: middle;\n",
              "    }\n",
              "\n",
              "    .dataframe tbody tr th {\n",
              "        vertical-align: top;\n",
              "    }\n",
              "\n",
              "    .dataframe thead th {\n",
              "        text-align: right;\n",
              "    }\n",
              "</style>\n",
              "<table border=\"1\" class=\"dataframe\">\n",
              "  <thead>\n",
              "    <tr style=\"text-align: right;\">\n",
              "      <th></th>\n",
              "      <th>Unnamed: 0</th>\n",
              "      <th>title</th>\n",
              "      <th>author</th>\n",
              "      <th>date</th>\n",
              "      <th>score</th>\n",
              "      <th>num_comments</th>\n",
              "      <th>upvotes_ratio</th>\n",
              "      <th>compound</th>\n",
              "      <th>negative</th>\n",
              "      <th>neutral</th>\n",
              "      <th>positive</th>\n",
              "    </tr>\n",
              "  </thead>\n",
              "  <tbody>\n",
              "    <tr>\n",
              "      <th>0</th>\n",
              "      <td>0</td>\n",
              "      <td>I have no experience with gsync but is this no...</td>\n",
              "      <td>Due-Department230</td>\n",
              "      <td>2021-05-29 23:05:08</td>\n",
              "      <td>1</td>\n",
              "      <td>3</td>\n",
              "      <td>1.00</td>\n",
              "      <td>-0.5267</td>\n",
              "      <td>0.132</td>\n",
              "      <td>0.868</td>\n",
              "      <td>0.000</td>\n",
              "    </tr>\n",
              "    <tr>\n",
              "      <th>1</th>\n",
              "      <td>3</td>\n",
              "      <td>Ready for retirement.</td>\n",
              "      <td>Z06Chris</td>\n",
              "      <td>2021-05-29 18:51:47</td>\n",
              "      <td>36</td>\n",
              "      <td>20</td>\n",
              "      <td>0.84</td>\n",
              "      <td>0.3612</td>\n",
              "      <td>0.000</td>\n",
              "      <td>0.444</td>\n",
              "      <td>0.556</td>\n",
              "    </tr>\n",
              "    <tr>\n",
              "      <th>2</th>\n",
              "      <td>4</td>\n",
              "      <td>New MSI RTX 3070 Suprim X build I finished a c...</td>\n",
              "      <td>lllPrecisionlll</td>\n",
              "      <td>2021-05-29 18:32:34</td>\n",
              "      <td>7</td>\n",
              "      <td>4</td>\n",
              "      <td>0.73</td>\n",
              "      <td>0.0000</td>\n",
              "      <td>0.000</td>\n",
              "      <td>1.000</td>\n",
              "      <td>0.000</td>\n",
              "    </tr>\n",
              "    <tr>\n",
              "      <th>3</th>\n",
              "      <td>5</td>\n",
              "      <td>3080 Strix white build</td>\n",
              "      <td>matthewgallo98</td>\n",
              "      <td>2021-05-29 17:39:45</td>\n",
              "      <td>6</td>\n",
              "      <td>10</td>\n",
              "      <td>0.65</td>\n",
              "      <td>0.0000</td>\n",
              "      <td>0.000</td>\n",
              "      <td>1.000</td>\n",
              "      <td>0.000</td>\n",
              "    </tr>\n",
              "    <tr>\n",
              "      <th>4</th>\n",
              "      <td>7</td>\n",
              "      <td>Dyst-MMXX1 Ver. 1 with a Gigabyte Vision RTX 3...</td>\n",
              "      <td>MechanicalPencilGirl</td>\n",
              "      <td>2021-05-29 15:28:23</td>\n",
              "      <td>0</td>\n",
              "      <td>10</td>\n",
              "      <td>0.40</td>\n",
              "      <td>0.7351</td>\n",
              "      <td>0.000</td>\n",
              "      <td>0.744</td>\n",
              "      <td>0.256</td>\n",
              "    </tr>\n",
              "    <tr>\n",
              "      <th>...</th>\n",
              "      <td>...</td>\n",
              "      <td>...</td>\n",
              "      <td>...</td>\n",
              "      <td>...</td>\n",
              "      <td>...</td>\n",
              "      <td>...</td>\n",
              "      <td>...</td>\n",
              "      <td>...</td>\n",
              "      <td>...</td>\n",
              "      <td>...</td>\n",
              "      <td>...</td>\n",
              "    </tr>\n",
              "    <tr>\n",
              "      <th>998</th>\n",
              "      <td>998</td>\n",
              "      <td>**PsychoMarket Recap - Wednesday, May 19, 2021...</td>\n",
              "      <td>psychotrader00</td>\n",
              "      <td>2021-05-19 20:55:50</td>\n",
              "      <td>19</td>\n",
              "      <td>0</td>\n",
              "      <td>0.96</td>\n",
              "      <td>0.9993</td>\n",
              "      <td>0.034</td>\n",
              "      <td>0.840</td>\n",
              "      <td>0.127</td>\n",
              "    </tr>\n",
              "    <tr>\n",
              "      <th>999</th>\n",
              "      <td>999</td>\n",
              "      <td>**This is not an attack. This is not cynicism....</td>\n",
              "      <td>egobamyasi</td>\n",
              "      <td>2021-05-16 22:20:34</td>\n",
              "      <td>253</td>\n",
              "      <td>86</td>\n",
              "      <td>0.93</td>\n",
              "      <td>0.9755</td>\n",
              "      <td>0.032</td>\n",
              "      <td>0.863</td>\n",
              "      <td>0.106</td>\n",
              "    </tr>\n",
              "    <tr>\n",
              "      <th>1000</th>\n",
              "      <td>1000</td>\n",
              "      <td>https://preview.redd.it/wck74wobywx61.png?widt...</td>\n",
              "      <td>Donisxb</td>\n",
              "      <td>2021-05-08 17:25:47</td>\n",
              "      <td>13</td>\n",
              "      <td>12</td>\n",
              "      <td>0.81</td>\n",
              "      <td>0.9990</td>\n",
              "      <td>0.030</td>\n",
              "      <td>0.831</td>\n",
              "      <td>0.139</td>\n",
              "    </tr>\n",
              "    <tr>\n",
              "      <th>1001</th>\n",
              "      <td>1001</td>\n",
              "      <td>New IPO original price $4-7 dollars but got li...</td>\n",
              "      <td>Donisxb</td>\n",
              "      <td>2021-05-06 07:57:37</td>\n",
              "      <td>22</td>\n",
              "      <td>44</td>\n",
              "      <td>0.88</td>\n",
              "      <td>0.7906</td>\n",
              "      <td>0.060</td>\n",
              "      <td>0.836</td>\n",
              "      <td>0.104</td>\n",
              "    </tr>\n",
              "    <tr>\n",
              "      <th>1002</th>\n",
              "      <td>1002</td>\n",
              "      <td>\\nHello, sorry if this comes off as ignorant a...</td>\n",
              "      <td>MajorSTDHolder</td>\n",
              "      <td>2021-04-02 17:09:18</td>\n",
              "      <td>9</td>\n",
              "      <td>16</td>\n",
              "      <td>0.91</td>\n",
              "      <td>0.7579</td>\n",
              "      <td>0.069</td>\n",
              "      <td>0.832</td>\n",
              "      <td>0.099</td>\n",
              "    </tr>\n",
              "  </tbody>\n",
              "</table>\n",
              "<p>1003 rows × 11 columns</p>\n",
              "</div>"
            ],
            "text/plain": [
              "      Unnamed: 0  ... positive\n",
              "0              0  ...    0.000\n",
              "1              3  ...    0.556\n",
              "2              4  ...    0.000\n",
              "3              5  ...    0.000\n",
              "4              7  ...    0.256\n",
              "...          ...  ...      ...\n",
              "998          998  ...    0.127\n",
              "999          999  ...    0.106\n",
              "1000        1000  ...    0.139\n",
              "1001        1001  ...    0.104\n",
              "1002        1002  ...    0.099\n",
              "\n",
              "[1003 rows x 11 columns]"
            ]
          },
          "metadata": {
            "tags": []
          },
          "execution_count": 11
        }
      ]
    },
    {
      "cell_type": "code",
      "metadata": {
        "id": "vZLOGCKUhxf5"
      },
      "source": [
        "result['date'] = pd.to_datetime(result['date']).dt.date"
      ],
      "execution_count": 15,
      "outputs": []
    },
    {
      "cell_type": "code",
      "metadata": {
        "colab": {
          "base_uri": "https://localhost:8080/",
          "height": 606
        },
        "id": "o3OrKXPbiFDv",
        "outputId": "47d21844-4fbf-4d8a-aad1-5a7afdf84e05"
      },
      "source": [
        "result"
      ],
      "execution_count": 16,
      "outputs": [
        {
          "output_type": "execute_result",
          "data": {
            "text/html": [
              "<div>\n",
              "<style scoped>\n",
              "    .dataframe tbody tr th:only-of-type {\n",
              "        vertical-align: middle;\n",
              "    }\n",
              "\n",
              "    .dataframe tbody tr th {\n",
              "        vertical-align: top;\n",
              "    }\n",
              "\n",
              "    .dataframe thead th {\n",
              "        text-align: right;\n",
              "    }\n",
              "</style>\n",
              "<table border=\"1\" class=\"dataframe\">\n",
              "  <thead>\n",
              "    <tr style=\"text-align: right;\">\n",
              "      <th></th>\n",
              "      <th>Unnamed: 0</th>\n",
              "      <th>title</th>\n",
              "      <th>author</th>\n",
              "      <th>date</th>\n",
              "      <th>score</th>\n",
              "      <th>num_comments</th>\n",
              "      <th>upvotes_ratio</th>\n",
              "      <th>compound</th>\n",
              "      <th>negative</th>\n",
              "      <th>neutral</th>\n",
              "      <th>positive</th>\n",
              "    </tr>\n",
              "  </thead>\n",
              "  <tbody>\n",
              "    <tr>\n",
              "      <th>0</th>\n",
              "      <td>0</td>\n",
              "      <td>I have no experience with gsync but is this no...</td>\n",
              "      <td>Due-Department230</td>\n",
              "      <td>2021-05-29</td>\n",
              "      <td>1</td>\n",
              "      <td>3</td>\n",
              "      <td>1.00</td>\n",
              "      <td>-0.5267</td>\n",
              "      <td>0.132</td>\n",
              "      <td>0.868</td>\n",
              "      <td>0.000</td>\n",
              "    </tr>\n",
              "    <tr>\n",
              "      <th>1</th>\n",
              "      <td>3</td>\n",
              "      <td>Ready for retirement.</td>\n",
              "      <td>Z06Chris</td>\n",
              "      <td>2021-05-29</td>\n",
              "      <td>36</td>\n",
              "      <td>20</td>\n",
              "      <td>0.84</td>\n",
              "      <td>0.3612</td>\n",
              "      <td>0.000</td>\n",
              "      <td>0.444</td>\n",
              "      <td>0.556</td>\n",
              "    </tr>\n",
              "    <tr>\n",
              "      <th>2</th>\n",
              "      <td>4</td>\n",
              "      <td>New MSI RTX 3070 Suprim X build I finished a c...</td>\n",
              "      <td>lllPrecisionlll</td>\n",
              "      <td>2021-05-29</td>\n",
              "      <td>7</td>\n",
              "      <td>4</td>\n",
              "      <td>0.73</td>\n",
              "      <td>0.0000</td>\n",
              "      <td>0.000</td>\n",
              "      <td>1.000</td>\n",
              "      <td>0.000</td>\n",
              "    </tr>\n",
              "    <tr>\n",
              "      <th>3</th>\n",
              "      <td>5</td>\n",
              "      <td>3080 Strix white build</td>\n",
              "      <td>matthewgallo98</td>\n",
              "      <td>2021-05-29</td>\n",
              "      <td>6</td>\n",
              "      <td>10</td>\n",
              "      <td>0.65</td>\n",
              "      <td>0.0000</td>\n",
              "      <td>0.000</td>\n",
              "      <td>1.000</td>\n",
              "      <td>0.000</td>\n",
              "    </tr>\n",
              "    <tr>\n",
              "      <th>4</th>\n",
              "      <td>7</td>\n",
              "      <td>Dyst-MMXX1 Ver. 1 with a Gigabyte Vision RTX 3...</td>\n",
              "      <td>MechanicalPencilGirl</td>\n",
              "      <td>2021-05-29</td>\n",
              "      <td>0</td>\n",
              "      <td>10</td>\n",
              "      <td>0.40</td>\n",
              "      <td>0.7351</td>\n",
              "      <td>0.000</td>\n",
              "      <td>0.744</td>\n",
              "      <td>0.256</td>\n",
              "    </tr>\n",
              "    <tr>\n",
              "      <th>...</th>\n",
              "      <td>...</td>\n",
              "      <td>...</td>\n",
              "      <td>...</td>\n",
              "      <td>...</td>\n",
              "      <td>...</td>\n",
              "      <td>...</td>\n",
              "      <td>...</td>\n",
              "      <td>...</td>\n",
              "      <td>...</td>\n",
              "      <td>...</td>\n",
              "      <td>...</td>\n",
              "    </tr>\n",
              "    <tr>\n",
              "      <th>998</th>\n",
              "      <td>998</td>\n",
              "      <td>**PsychoMarket Recap - Wednesday, May 19, 2021...</td>\n",
              "      <td>psychotrader00</td>\n",
              "      <td>2021-05-19</td>\n",
              "      <td>19</td>\n",
              "      <td>0</td>\n",
              "      <td>0.96</td>\n",
              "      <td>0.9993</td>\n",
              "      <td>0.034</td>\n",
              "      <td>0.840</td>\n",
              "      <td>0.127</td>\n",
              "    </tr>\n",
              "    <tr>\n",
              "      <th>999</th>\n",
              "      <td>999</td>\n",
              "      <td>**This is not an attack. This is not cynicism....</td>\n",
              "      <td>egobamyasi</td>\n",
              "      <td>2021-05-16</td>\n",
              "      <td>253</td>\n",
              "      <td>86</td>\n",
              "      <td>0.93</td>\n",
              "      <td>0.9755</td>\n",
              "      <td>0.032</td>\n",
              "      <td>0.863</td>\n",
              "      <td>0.106</td>\n",
              "    </tr>\n",
              "    <tr>\n",
              "      <th>1000</th>\n",
              "      <td>1000</td>\n",
              "      <td>https://preview.redd.it/wck74wobywx61.png?widt...</td>\n",
              "      <td>Donisxb</td>\n",
              "      <td>2021-05-08</td>\n",
              "      <td>13</td>\n",
              "      <td>12</td>\n",
              "      <td>0.81</td>\n",
              "      <td>0.9990</td>\n",
              "      <td>0.030</td>\n",
              "      <td>0.831</td>\n",
              "      <td>0.139</td>\n",
              "    </tr>\n",
              "    <tr>\n",
              "      <th>1001</th>\n",
              "      <td>1001</td>\n",
              "      <td>New IPO original price $4-7 dollars but got li...</td>\n",
              "      <td>Donisxb</td>\n",
              "      <td>2021-05-06</td>\n",
              "      <td>22</td>\n",
              "      <td>44</td>\n",
              "      <td>0.88</td>\n",
              "      <td>0.7906</td>\n",
              "      <td>0.060</td>\n",
              "      <td>0.836</td>\n",
              "      <td>0.104</td>\n",
              "    </tr>\n",
              "    <tr>\n",
              "      <th>1002</th>\n",
              "      <td>1002</td>\n",
              "      <td>\\nHello, sorry if this comes off as ignorant a...</td>\n",
              "      <td>MajorSTDHolder</td>\n",
              "      <td>2021-04-02</td>\n",
              "      <td>9</td>\n",
              "      <td>16</td>\n",
              "      <td>0.91</td>\n",
              "      <td>0.7579</td>\n",
              "      <td>0.069</td>\n",
              "      <td>0.832</td>\n",
              "      <td>0.099</td>\n",
              "    </tr>\n",
              "  </tbody>\n",
              "</table>\n",
              "<p>1003 rows × 11 columns</p>\n",
              "</div>"
            ],
            "text/plain": [
              "      Unnamed: 0  ... positive\n",
              "0              0  ...    0.000\n",
              "1              3  ...    0.556\n",
              "2              4  ...    0.000\n",
              "3              5  ...    0.000\n",
              "4              7  ...    0.256\n",
              "...          ...  ...      ...\n",
              "998          998  ...    0.127\n",
              "999          999  ...    0.106\n",
              "1000        1000  ...    0.139\n",
              "1001        1001  ...    0.104\n",
              "1002        1002  ...    0.099\n",
              "\n",
              "[1003 rows x 11 columns]"
            ]
          },
          "metadata": {
            "tags": []
          },
          "execution_count": 16
        }
      ]
    },
    {
      "cell_type": "code",
      "metadata": {
        "id": "keM0sxgwiGKa"
      },
      "source": [
        "k=result[\"date\"].unique()"
      ],
      "execution_count": 26,
      "outputs": []
    },
    {
      "cell_type": "code",
      "metadata": {
        "colab": {
          "base_uri": "https://localhost:8080/"
        },
        "id": "EkzpNDWZkYJF",
        "outputId": "ac639ec2-3bba-49cb-89a2-8c5e0d105bd0"
      },
      "source": [
        ""
      ],
      "execution_count": 35,
      "outputs": [
        {
          "output_type": "execute_result",
          "data": {
            "text/plain": [
              "Index(['date', 'score', 'num_comments', 'upvotes_ratio', 'compound',\n",
              "       'negative', 'neutral', 'positive'],\n",
              "      dtype='object')"
            ]
          },
          "metadata": {
            "tags": []
          },
          "execution_count": 35
        }
      ]
    },
    {
      "cell_type": "code",
      "metadata": {
        "id": "6bacOmPFj375"
      },
      "source": [
        "m=[]\n",
        "for i in range(len(k)):\n",
        "  l=result[result[\"date\"] == k[i]].sum()\n",
        "  m.append([k[i]] + [l.score] + [l.num_comments] + [l.upvotes_ratio] + [l.compound] + [l.negative] + [l.neutral] + [l.positive])"
      ],
      "execution_count": 41,
      "outputs": []
    },
    {
      "cell_type": "code",
      "metadata": {
        "id": "OnL1omRdmA8Z"
      },
      "source": [
        "df = pd.DataFrame(m,columns=result.drop(['title','author','Unnamed: 0'],axis=1).columns)"
      ],
      "execution_count": 42,
      "outputs": []
    },
    {
      "cell_type": "code",
      "metadata": {
        "id": "ZmX3gKjam47z"
      },
      "source": [
        "df=df.sort_values(\"date\",ascending=False)"
      ],
      "execution_count": 53,
      "outputs": []
    },
    {
      "cell_type": "code",
      "metadata": {
        "colab": {
          "base_uri": "https://localhost:8080/"
        },
        "id": "UX-AM7q-nMUL",
        "outputId": "910d26e5-3a77-406d-93b9-eecb488beed4"
      },
      "source": [
        "first_time = df[\"date\"].iloc[67]\n",
        "later_time = df[\"date\"].iloc[0]\n",
        "(later_time - first_time).days"
      ],
      "execution_count": 56,
      "outputs": [
        {
          "output_type": "execute_result",
          "data": {
            "text/plain": [
              "259"
            ]
          },
          "metadata": {
            "tags": []
          },
          "execution_count": 56
        }
      ]
    },
    {
      "cell_type": "code",
      "metadata": {
        "colab": {
          "base_uri": "https://localhost:8080/"
        },
        "id": "Me0j8HIAzUDZ",
        "outputId": "f06ed1d1-9f69-493f-9a8f-d74921e2cb62"
      },
      "source": [
        "li =[]\n",
        "li.append(df.iloc[0])\n",
        "for i in range(len(df)):\n",
        "  first_time = df[\"date\"].iloc[i]\n",
        "  later_time = li[-1][\"date\"]\n",
        "  for j in range((later_time - first_time).days-1):\n",
        "    li.append(df.iloc[i-1])\n",
        "    li[-1][\"date\"] = df[\"date\"].iloc[i-1]+ datetime.timedelta(days = j)\n",
        "  li.append(df.iloc[i])"
      ],
      "execution_count": 129,
      "outputs": [
        {
          "output_type": "stream",
          "text": [
            "/usr/local/lib/python3.7/dist-packages/ipykernel_launcher.py:8: SettingWithCopyWarning: \n",
            "A value is trying to be set on a copy of a slice from a DataFrame\n",
            "\n",
            "See the caveats in the documentation: https://pandas.pydata.org/pandas-docs/stable/user_guide/indexing.html#returning-a-view-versus-a-copy\n",
            "  \n"
          ],
          "name": "stderr"
        }
      ]
    },
    {
      "cell_type": "code",
      "metadata": {
        "colab": {
          "base_uri": "https://localhost:8080/",
          "height": 419
        },
        "id": "WttYdTuN0Tzl",
        "outputId": "770d5777-0547-46e3-99f0-5bf0868c9212"
      },
      "source": [
        "pd.DataFrame(li,columns=result.drop(['title','author','Unnamed: 0'],axis=1).columns)"
      ],
      "execution_count": 131,
      "outputs": [
        {
          "output_type": "execute_result",
          "data": {
            "text/html": [
              "<div>\n",
              "<style scoped>\n",
              "    .dataframe tbody tr th:only-of-type {\n",
              "        vertical-align: middle;\n",
              "    }\n",
              "\n",
              "    .dataframe tbody tr th {\n",
              "        vertical-align: top;\n",
              "    }\n",
              "\n",
              "    .dataframe thead th {\n",
              "        text-align: right;\n",
              "    }\n",
              "</style>\n",
              "<table border=\"1\" class=\"dataframe\">\n",
              "  <thead>\n",
              "    <tr style=\"text-align: right;\">\n",
              "      <th></th>\n",
              "      <th>date</th>\n",
              "      <th>score</th>\n",
              "      <th>num_comments</th>\n",
              "      <th>upvotes_ratio</th>\n",
              "      <th>compound</th>\n",
              "      <th>negative</th>\n",
              "      <th>neutral</th>\n",
              "      <th>positive</th>\n",
              "    </tr>\n",
              "  </thead>\n",
              "  <tbody>\n",
              "    <tr>\n",
              "      <th>0</th>\n",
              "      <td>2021-05-29</td>\n",
              "      <td>2832</td>\n",
              "      <td>315</td>\n",
              "      <td>13.47</td>\n",
              "      <td>1.2111</td>\n",
              "      <td>0.517</td>\n",
              "      <td>15.092</td>\n",
              "      <td>1.391</td>\n",
              "    </tr>\n",
              "    <tr>\n",
              "      <th>0</th>\n",
              "      <td>2021-05-29</td>\n",
              "      <td>2832</td>\n",
              "      <td>315</td>\n",
              "      <td>13.47</td>\n",
              "      <td>1.2111</td>\n",
              "      <td>0.517</td>\n",
              "      <td>15.092</td>\n",
              "      <td>1.391</td>\n",
              "    </tr>\n",
              "    <tr>\n",
              "      <th>1</th>\n",
              "      <td>2021-05-28</td>\n",
              "      <td>3429</td>\n",
              "      <td>681</td>\n",
              "      <td>16.03</td>\n",
              "      <td>4.0118</td>\n",
              "      <td>0.635</td>\n",
              "      <td>16.966</td>\n",
              "      <td>1.399</td>\n",
              "    </tr>\n",
              "    <tr>\n",
              "      <th>2</th>\n",
              "      <td>2021-05-27</td>\n",
              "      <td>3034</td>\n",
              "      <td>862</td>\n",
              "      <td>17.51</td>\n",
              "      <td>5.8863</td>\n",
              "      <td>0.611</td>\n",
              "      <td>20.223</td>\n",
              "      <td>1.167</td>\n",
              "    </tr>\n",
              "    <tr>\n",
              "      <th>3</th>\n",
              "      <td>2021-05-26</td>\n",
              "      <td>2400</td>\n",
              "      <td>856</td>\n",
              "      <td>12.56</td>\n",
              "      <td>5.2287</td>\n",
              "      <td>0.265</td>\n",
              "      <td>14.853</td>\n",
              "      <td>0.882</td>\n",
              "    </tr>\n",
              "    <tr>\n",
              "      <th>...</th>\n",
              "      <td>...</td>\n",
              "      <td>...</td>\n",
              "      <td>...</td>\n",
              "      <td>...</td>\n",
              "      <td>...</td>\n",
              "      <td>...</td>\n",
              "      <td>...</td>\n",
              "      <td>...</td>\n",
              "    </tr>\n",
              "    <tr>\n",
              "      <th>65</th>\n",
              "      <td>2021-04-21</td>\n",
              "      <td>35</td>\n",
              "      <td>14</td>\n",
              "      <td>0.89</td>\n",
              "      <td>0.7783</td>\n",
              "      <td>0.000</td>\n",
              "      <td>0.924</td>\n",
              "      <td>0.076</td>\n",
              "    </tr>\n",
              "    <tr>\n",
              "      <th>58</th>\n",
              "      <td>2020-09-15</td>\n",
              "      <td>58</td>\n",
              "      <td>10</td>\n",
              "      <td>0.94</td>\n",
              "      <td>0.4019</td>\n",
              "      <td>0.000</td>\n",
              "      <td>0.426</td>\n",
              "      <td>0.574</td>\n",
              "    </tr>\n",
              "    <tr>\n",
              "      <th>58</th>\n",
              "      <td>2020-09-15</td>\n",
              "      <td>58</td>\n",
              "      <td>10</td>\n",
              "      <td>0.94</td>\n",
              "      <td>0.4019</td>\n",
              "      <td>0.000</td>\n",
              "      <td>0.426</td>\n",
              "      <td>0.574</td>\n",
              "    </tr>\n",
              "    <tr>\n",
              "      <th>58</th>\n",
              "      <td>2020-09-16</td>\n",
              "      <td>58</td>\n",
              "      <td>10</td>\n",
              "      <td>0.94</td>\n",
              "      <td>0.4019</td>\n",
              "      <td>0.000</td>\n",
              "      <td>0.426</td>\n",
              "      <td>0.574</td>\n",
              "    </tr>\n",
              "    <tr>\n",
              "      <th>66</th>\n",
              "      <td>2020-09-12</td>\n",
              "      <td>114</td>\n",
              "      <td>40</td>\n",
              "      <td>0.99</td>\n",
              "      <td>0.9676</td>\n",
              "      <td>0.021</td>\n",
              "      <td>0.915</td>\n",
              "      <td>0.064</td>\n",
              "    </tr>\n",
              "  </tbody>\n",
              "</table>\n",
              "<p>261 rows × 8 columns</p>\n",
              "</div>"
            ],
            "text/plain": [
              "          date  score  num_comments  ...  negative  neutral  positive\n",
              "0   2021-05-29   2832           315  ...     0.517   15.092     1.391\n",
              "0   2021-05-29   2832           315  ...     0.517   15.092     1.391\n",
              "1   2021-05-28   3429           681  ...     0.635   16.966     1.399\n",
              "2   2021-05-27   3034           862  ...     0.611   20.223     1.167\n",
              "3   2021-05-26   2400           856  ...     0.265   14.853     0.882\n",
              "..         ...    ...           ...  ...       ...      ...       ...\n",
              "65  2021-04-21     35            14  ...     0.000    0.924     0.076\n",
              "58  2020-09-15     58            10  ...     0.000    0.426     0.574\n",
              "58  2020-09-15     58            10  ...     0.000    0.426     0.574\n",
              "58  2020-09-16     58            10  ...     0.000    0.426     0.574\n",
              "66  2020-09-12    114            40  ...     0.021    0.915     0.064\n",
              "\n",
              "[261 rows x 8 columns]"
            ]
          },
          "metadata": {
            "tags": []
          },
          "execution_count": 131
        }
      ]
    },
    {
      "cell_type": "code",
      "metadata": {
        "id": "sFZfilJbv3WI"
      },
      "source": [
        "df2=pd.DataFrame(li,columns=result.drop(['title','author','Unnamed: 0'],axis=1).columns)\n",
        "df2.to_csv('NVIDIA_sent.csv')"
      ],
      "execution_count": 132,
      "outputs": []
    }
  ]
}