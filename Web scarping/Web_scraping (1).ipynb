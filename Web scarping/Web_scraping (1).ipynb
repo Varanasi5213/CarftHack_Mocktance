{
  "nbformat": 4,
  "nbformat_minor": 0,
  "metadata": {
    "colab": {
      "name": "Web scraping.ipynb",
      "provenance": [],
      "collapsed_sections": []
    },
    "kernelspec": {
      "name": "python3",
      "display_name": "Python 3"
    },
    "language_info": {
      "name": "python"
    }
  },
  "cells": [
    {
      "cell_type": "code",
      "metadata": {
        "colab": {
          "base_uri": "https://localhost:8080/"
        },
        "id": "6ldiDYuBdTak",
        "outputId": "11779957-9c8d-4102-e3d3-be547a17de7d"
      },
      "source": [
        "!pip install praw"
      ],
      "execution_count": 1,
      "outputs": [
        {
          "output_type": "stream",
          "text": [
            "Collecting praw\n",
            "\u001b[?25l  Downloading https://files.pythonhosted.org/packages/48/a8/a2e2d0750ee17c7e3d81e4695a0338ad0b3f231853b8c3fa339ff2d25c7c/praw-7.2.0-py3-none-any.whl (159kB)\n",
            "\r\u001b[K     |██                              | 10kB 10.8MB/s eta 0:00:01\r\u001b[K     |████                            | 20kB 4.8MB/s eta 0:00:01\r\u001b[K     |██████▏                         | 30kB 3.8MB/s eta 0:00:01\r\u001b[K     |████████▏                       | 40kB 1.7MB/s eta 0:00:01\r\u001b[K     |██████████▎                     | 51kB 2.1MB/s eta 0:00:01\r\u001b[K     |████████████▎                   | 61kB 2.3MB/s eta 0:00:01\r\u001b[K     |██████████████▍                 | 71kB 2.5MB/s eta 0:00:01\r\u001b[K     |████████████████▍               | 81kB 2.7MB/s eta 0:00:01\r\u001b[K     |██████████████████▌             | 92kB 2.7MB/s eta 0:00:01\r\u001b[K     |████████████████████▌           | 102kB 2.9MB/s eta 0:00:01\r\u001b[K     |██████████████████████▋         | 112kB 2.9MB/s eta 0:00:01\r\u001b[K     |████████████████████████▋       | 122kB 2.9MB/s eta 0:00:01\r\u001b[K     |██████████████████████████▊     | 133kB 2.9MB/s eta 0:00:01\r\u001b[K     |████████████████████████████▊   | 143kB 2.9MB/s eta 0:00:01\r\u001b[K     |██████████████████████████████▉ | 153kB 2.9MB/s eta 0:00:01\r\u001b[K     |████████████████████████████████| 163kB 2.9MB/s \n",
            "\u001b[?25hCollecting update-checker>=0.18\n",
            "  Downloading https://files.pythonhosted.org/packages/0c/ba/8dd7fa5f0b1c6a8ac62f8f57f7e794160c1f86f31c6d0fb00f582372a3e4/update_checker-0.18.0-py3-none-any.whl\n",
            "Collecting websocket-client>=0.54.0\n",
            "\u001b[?25l  Downloading https://files.pythonhosted.org/packages/85/ee/7aa724dc2dbed9b028f463eada5482770c13b7381a0c79457d12b3b62de2/websocket_client-1.0.1-py2.py3-none-any.whl (68kB)\n",
            "\u001b[K     |████████████████████████████████| 71kB 4.7MB/s \n",
            "\u001b[?25hCollecting prawcore<3,>=2\n",
            "  Downloading https://files.pythonhosted.org/packages/7d/df/4a9106bea0d26689c4b309da20c926a01440ddaf60c09a5ae22684ebd35f/prawcore-2.0.0-py3-none-any.whl\n",
            "Requirement already satisfied: requests>=2.3.0 in /usr/local/lib/python3.7/dist-packages (from update-checker>=0.18->praw) (2.23.0)\n",
            "Requirement already satisfied: idna<3,>=2.5 in /usr/local/lib/python3.7/dist-packages (from requests>=2.3.0->update-checker>=0.18->praw) (2.10)\n",
            "Requirement already satisfied: urllib3!=1.25.0,!=1.25.1,<1.26,>=1.21.1 in /usr/local/lib/python3.7/dist-packages (from requests>=2.3.0->update-checker>=0.18->praw) (1.24.3)\n",
            "Requirement already satisfied: chardet<4,>=3.0.2 in /usr/local/lib/python3.7/dist-packages (from requests>=2.3.0->update-checker>=0.18->praw) (3.0.4)\n",
            "Requirement already satisfied: certifi>=2017.4.17 in /usr/local/lib/python3.7/dist-packages (from requests>=2.3.0->update-checker>=0.18->praw) (2020.12.5)\n",
            "Installing collected packages: update-checker, websocket-client, prawcore, praw\n",
            "Successfully installed praw-7.2.0 prawcore-2.0.0 update-checker-0.18.0 websocket-client-1.0.1\n"
          ],
          "name": "stdout"
        }
      ]
    },
    {
      "cell_type": "code",
      "metadata": {
        "id": "M-2aeq4Vlq3X"
      },
      "source": [
        "import praw"
      ],
      "execution_count": 2,
      "outputs": []
    },
    {
      "cell_type": "code",
      "metadata": {
        "id": "qtH_9SdDluXv"
      },
      "source": [
        "reddit = praw.Reddit(client_id=\"sCiuOpj_dnS7AQ\",\n",
        "                       client_secret=\"ORRVwLlngtNPE0sWcWwvvGWaiT-iEg\",\n",
        "                       user_agent=\"I am\",\n",
        "                       password=\"YNRana16#coder\",\n",
        "                       username=\"YNRana\")"
      ],
      "execution_count": 3,
      "outputs": []
    },
    {
      "cell_type": "code",
      "metadata": {
        "id": "qnP0zfAamAie"
      },
      "source": [
        "testing1 = list(reddit.subreddit(\"investing+wallstreetbets+stocks\").new(limit = None))\n",
        "testing2 = list(reddit.subreddit(\"wallstreet+SecurityAnalysis\").new(limit = None))\n",
        "testing3 = list(reddit.subreddit(\"StockMarket+pennystocks+algotrading\").new(limit = None))\n",
        "testing = testing1+testing2+testing3"
      ],
      "execution_count": null,
      "outputs": []
    },
    {
      "cell_type": "code",
      "metadata": {
        "id": "io0fgxmzT4kq"
      },
      "source": [
        "l=[]\n",
        "for index in range(0,len(testing)):\n",
        "  t=str(testing[index].title.lower())\n",
        "  b = str(testing[index].selftext.lower())\n",
        "  if (t.find('nvidia') != -1) or (b.find('nvidia') != -1) or (t.find('nvda') != -1) or (b.find('nvda') != -1):\n",
        "    if str(testing[index].title.lower()).find('nvidia') == \"\" :\n",
        "      l.append(str(testing[index].title.lower()))\n",
        "    else:\n",
        "      l.append(testing[index])"
      ],
      "execution_count": 31,
      "outputs": []
    },
    {
      "cell_type": "code",
      "metadata": {
        "id": "n_W-W5IzctKl"
      },
      "source": [
        "t = list(reddit.subreddit(\"NVIDIA+JensenHuang+SteveOberlin\").new(limit = None))\n",
        "final =  t+l\n",
        "final"
      ],
      "execution_count": null,
      "outputs": []
    },
    {
      "cell_type": "code",
      "metadata": {
        "id": "UNO4Tn02dFp1"
      },
      "source": [
        "import pandas as pd\n",
        "df = pd.DataFrame(columns=['title','author','date','score','num_comments',\"upvotes_ratio\"])"
      ],
      "execution_count": 38,
      "outputs": []
    },
    {
      "cell_type": "code",
      "metadata": {
        "colab": {
          "base_uri": "https://localhost:8080/",
          "height": 204
        },
        "id": "KTs7q7nEdesQ",
        "outputId": "3575a3f3-bdc8-4518-9400-d9000df39c92"
      },
      "source": [
        "testing=final\n",
        "from datetime import datetime \n",
        "for index in range(0,len(testing)):\n",
        "#     print(post.title,\"\\t\", post.author)\n",
        "    data = int(testing[index].created_utc)\n",
        "    date = datetime.utcfromtimestamp(data).strftime('%Y-%m-%d %H:%M:%S')\n",
        "    if str(testing[index].selftext) == \"\":\n",
        "      df.loc[index]= [str(testing[index].title)] + [str(testing[index].author)] + [str(date)] + [str(testing[index].score)] + [str(testing[index].num_comments)] + [str(testing[index].upvote_ratio)]\n",
        "    else:\n",
        "      df.loc[index]= [str(testing[index].selftext)] + [str(testing[index].author)] + [str(date)] + [str(testing[index].score)] + [str(testing[index].num_comments)] + [str(testing[index].upvote_ratio)]\n",
        "                                                     \n",
        "df.tail()    "
      ],
      "execution_count": 41,
      "outputs": [
        {
          "output_type": "execute_result",
          "data": {
            "text/html": [
              "<div>\n",
              "<style scoped>\n",
              "    .dataframe tbody tr th:only-of-type {\n",
              "        vertical-align: middle;\n",
              "    }\n",
              "\n",
              "    .dataframe tbody tr th {\n",
              "        vertical-align: top;\n",
              "    }\n",
              "\n",
              "    .dataframe thead th {\n",
              "        text-align: right;\n",
              "    }\n",
              "</style>\n",
              "<table border=\"1\" class=\"dataframe\">\n",
              "  <thead>\n",
              "    <tr style=\"text-align: right;\">\n",
              "      <th></th>\n",
              "      <th>title</th>\n",
              "      <th>author</th>\n",
              "      <th>date</th>\n",
              "      <th>score</th>\n",
              "      <th>num_comments</th>\n",
              "      <th>upvotes_ratio</th>\n",
              "    </tr>\n",
              "  </thead>\n",
              "  <tbody>\n",
              "    <tr>\n",
              "      <th>998</th>\n",
              "      <td>**PsychoMarket Recap - Wednesday, May 19, 2021...</td>\n",
              "      <td>psychotrader00</td>\n",
              "      <td>2021-05-19 20:55:50</td>\n",
              "      <td>19</td>\n",
              "      <td>0</td>\n",
              "      <td>0.96</td>\n",
              "    </tr>\n",
              "    <tr>\n",
              "      <th>999</th>\n",
              "      <td>**This is not an attack. This is not cynicism....</td>\n",
              "      <td>egobamyasi</td>\n",
              "      <td>2021-05-16 22:20:34</td>\n",
              "      <td>253</td>\n",
              "      <td>86</td>\n",
              "      <td>0.93</td>\n",
              "    </tr>\n",
              "    <tr>\n",
              "      <th>1000</th>\n",
              "      <td>https://preview.redd.it/wck74wobywx61.png?widt...</td>\n",
              "      <td>Donisxb</td>\n",
              "      <td>2021-05-08 17:25:47</td>\n",
              "      <td>13</td>\n",
              "      <td>12</td>\n",
              "      <td>0.81</td>\n",
              "    </tr>\n",
              "    <tr>\n",
              "      <th>1001</th>\n",
              "      <td>New IPO original price $4-7 dollars but got li...</td>\n",
              "      <td>Donisxb</td>\n",
              "      <td>2021-05-06 07:57:37</td>\n",
              "      <td>22</td>\n",
              "      <td>44</td>\n",
              "      <td>0.88</td>\n",
              "    </tr>\n",
              "    <tr>\n",
              "      <th>1002</th>\n",
              "      <td>\\nHello, sorry if this comes off as ignorant a...</td>\n",
              "      <td>MajorSTDHolder</td>\n",
              "      <td>2021-04-02 17:09:18</td>\n",
              "      <td>9</td>\n",
              "      <td>16</td>\n",
              "      <td>0.91</td>\n",
              "    </tr>\n",
              "  </tbody>\n",
              "</table>\n",
              "</div>"
            ],
            "text/plain": [
              "                                                  title  ... upvotes_ratio\n",
              "998   **PsychoMarket Recap - Wednesday, May 19, 2021...  ...          0.96\n",
              "999   **This is not an attack. This is not cynicism....  ...          0.93\n",
              "1000  https://preview.redd.it/wck74wobywx61.png?widt...  ...          0.81\n",
              "1001  New IPO original price $4-7 dollars but got li...  ...          0.88\n",
              "1002  \\nHello, sorry if this comes off as ignorant a...  ...          0.91\n",
              "\n",
              "[5 rows x 6 columns]"
            ]
          },
          "metadata": {
            "tags": []
          },
          "execution_count": 41
        }
      ]
    },
    {
      "cell_type": "code",
      "metadata": {
        "id": "jAGyedK-gh8u"
      },
      "source": [
        "df.to_csv('NVIDIA.csv')"
      ],
      "execution_count": 42,
      "outputs": []
    },
    {
      "cell_type": "code",
      "metadata": {
        "id": "IDAIJV-IgplF"
      },
      "source": [
        ""
      ],
      "execution_count": null,
      "outputs": []
    }
  ]
}