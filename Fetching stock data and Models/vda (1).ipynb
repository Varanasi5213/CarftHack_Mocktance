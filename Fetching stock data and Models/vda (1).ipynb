{
  "nbformat": 4,
  "nbformat_minor": 0,
  "metadata": {
    "colab": {
      "name": "vda.ipynb",
      "provenance": [],
      "collapsed_sections": []
    },
    "kernelspec": {
      "name": "python3",
      "display_name": "Python 3"
    },
    "language_info": {
      "name": "python"
    }
  },
  "cells": [
    {
      "cell_type": "code",
      "metadata": {
        "id": "rLGkbG3HZWcG"
      },
      "source": [
        ""
      ],
      "execution_count": null,
      "outputs": []
    },
    {
      "cell_type": "code",
      "metadata": {
        "id": "wQ0BE6pqZJDQ"
      },
      "source": [
        "import pandas as pd\n",
        "import numpy as np\n",
        "import matplotlib.pyplot as plt"
      ],
      "execution_count": 1,
      "outputs": []
    },
    {
      "cell_type": "code",
      "metadata": {
        "colab": {
          "base_uri": "https://localhost:8080/",
          "height": 606
        },
        "id": "FJmCPJJKZlzr",
        "outputId": "6159f89b-1696-4697-9da5-4b71fe3d27e8"
      },
      "source": [
        "df=pd.read_csv(\"NVIDIA_Stock.csv\")\n",
        "df"
      ],
      "execution_count": 3,
      "outputs": [
        {
          "output_type": "execute_result",
          "data": {
            "text/html": [
              "<div>\n",
              "<style scoped>\n",
              "    .dataframe tbody tr th:only-of-type {\n",
              "        vertical-align: middle;\n",
              "    }\n",
              "\n",
              "    .dataframe tbody tr th {\n",
              "        vertical-align: top;\n",
              "    }\n",
              "\n",
              "    .dataframe thead th {\n",
              "        text-align: right;\n",
              "    }\n",
              "</style>\n",
              "<table border=\"1\" class=\"dataframe\">\n",
              "  <thead>\n",
              "    <tr style=\"text-align: right;\">\n",
              "      <th></th>\n",
              "      <th>Unnamed: 0</th>\n",
              "      <th>Unnamed: 0.1</th>\n",
              "      <th>date</th>\n",
              "      <th>score</th>\n",
              "      <th>num_comments</th>\n",
              "      <th>upvotes_ratio</th>\n",
              "      <th>compound</th>\n",
              "      <th>negative</th>\n",
              "      <th>neutral</th>\n",
              "      <th>positive</th>\n",
              "      <th>Open</th>\n",
              "      <th>High</th>\n",
              "      <th>Low</th>\n",
              "      <th>Close</th>\n",
              "    </tr>\n",
              "  </thead>\n",
              "  <tbody>\n",
              "    <tr>\n",
              "      <th>0</th>\n",
              "      <td>0</td>\n",
              "      <td>0</td>\n",
              "      <td>2020-09-12</td>\n",
              "      <td>2832.0</td>\n",
              "      <td>315.0</td>\n",
              "      <td>13.47</td>\n",
              "      <td>1.2111</td>\n",
              "      <td>0.517</td>\n",
              "      <td>15.092</td>\n",
              "      <td>1.391</td>\n",
              "      <td>620.039978</td>\n",
              "      <td>651.059998</td>\n",
              "      <td>620.530518</td>\n",
              "      <td>649.780029</td>\n",
              "    </tr>\n",
              "    <tr>\n",
              "      <th>1</th>\n",
              "      <td>1</td>\n",
              "      <td>1</td>\n",
              "      <td>2020-09-13</td>\n",
              "      <td>3429.0</td>\n",
              "      <td>681.0</td>\n",
              "      <td>16.03</td>\n",
              "      <td>4.0118</td>\n",
              "      <td>0.635</td>\n",
              "      <td>16.966</td>\n",
              "      <td>1.399</td>\n",
              "      <td>620.039978</td>\n",
              "      <td>651.059998</td>\n",
              "      <td>620.530518</td>\n",
              "      <td>649.780029</td>\n",
              "    </tr>\n",
              "    <tr>\n",
              "      <th>2</th>\n",
              "      <td>2</td>\n",
              "      <td>2</td>\n",
              "      <td>2020-09-14</td>\n",
              "      <td>3034.0</td>\n",
              "      <td>862.0</td>\n",
              "      <td>17.51</td>\n",
              "      <td>5.8863</td>\n",
              "      <td>0.611</td>\n",
              "      <td>20.223</td>\n",
              "      <td>1.167</td>\n",
              "      <td>523.239990</td>\n",
              "      <td>532.599976</td>\n",
              "      <td>505.250000</td>\n",
              "      <td>514.890015</td>\n",
              "    </tr>\n",
              "    <tr>\n",
              "      <th>3</th>\n",
              "      <td>3</td>\n",
              "      <td>3</td>\n",
              "      <td>2020-09-15</td>\n",
              "      <td>2400.0</td>\n",
              "      <td>856.0</td>\n",
              "      <td>12.56</td>\n",
              "      <td>5.2287</td>\n",
              "      <td>0.265</td>\n",
              "      <td>14.853</td>\n",
              "      <td>0.882</td>\n",
              "      <td>531.200012</td>\n",
              "      <td>531.950012</td>\n",
              "      <td>513.109985</td>\n",
              "      <td>519.640015</td>\n",
              "    </tr>\n",
              "    <tr>\n",
              "      <th>4</th>\n",
              "      <td>4</td>\n",
              "      <td>4</td>\n",
              "      <td>2020-09-16</td>\n",
              "      <td>1363.0</td>\n",
              "      <td>353.0</td>\n",
              "      <td>7.54</td>\n",
              "      <td>2.2566</td>\n",
              "      <td>0.191</td>\n",
              "      <td>9.412</td>\n",
              "      <td>0.397</td>\n",
              "      <td>518.289978</td>\n",
              "      <td>523.710022</td>\n",
              "      <td>500.549988</td>\n",
              "      <td>500.579987</td>\n",
              "    </tr>\n",
              "    <tr>\n",
              "      <th>...</th>\n",
              "      <td>...</td>\n",
              "      <td>...</td>\n",
              "      <td>...</td>\n",
              "      <td>...</td>\n",
              "      <td>...</td>\n",
              "      <td>...</td>\n",
              "      <td>...</td>\n",
              "      <td>...</td>\n",
              "      <td>...</td>\n",
              "      <td>...</td>\n",
              "      <td>...</td>\n",
              "      <td>...</td>\n",
              "      <td>...</td>\n",
              "      <td>...</td>\n",
              "    </tr>\n",
              "    <tr>\n",
              "      <th>255</th>\n",
              "      <td>255</td>\n",
              "      <td>255</td>\n",
              "      <td>2021-05-25</td>\n",
              "      <td>35.0</td>\n",
              "      <td>14.0</td>\n",
              "      <td>0.89</td>\n",
              "      <td>0.7783</td>\n",
              "      <td>0.000</td>\n",
              "      <td>0.924</td>\n",
              "      <td>0.076</td>\n",
              "      <td>630.640015</td>\n",
              "      <td>632.739990</td>\n",
              "      <td>619.299988</td>\n",
              "      <td>625.909973</td>\n",
              "    </tr>\n",
              "    <tr>\n",
              "      <th>256</th>\n",
              "      <td>256</td>\n",
              "      <td>256</td>\n",
              "      <td>2021-05-26</td>\n",
              "      <td>58.0</td>\n",
              "      <td>10.0</td>\n",
              "      <td>0.94</td>\n",
              "      <td>0.4019</td>\n",
              "      <td>0.000</td>\n",
              "      <td>0.426</td>\n",
              "      <td>0.574</td>\n",
              "      <td>629.369995</td>\n",
              "      <td>631.750000</td>\n",
              "      <td>623.450012</td>\n",
              "      <td>628.000000</td>\n",
              "    </tr>\n",
              "    <tr>\n",
              "      <th>257</th>\n",
              "      <td>257</td>\n",
              "      <td>257</td>\n",
              "      <td>2021-05-27</td>\n",
              "      <td>58.0</td>\n",
              "      <td>10.0</td>\n",
              "      <td>0.94</td>\n",
              "      <td>0.4019</td>\n",
              "      <td>0.000</td>\n",
              "      <td>0.426</td>\n",
              "      <td>0.574</td>\n",
              "      <td>627.989990</td>\n",
              "      <td>630.000000</td>\n",
              "      <td>618.400024</td>\n",
              "      <td>619.520020</td>\n",
              "    </tr>\n",
              "    <tr>\n",
              "      <th>258</th>\n",
              "      <td>258</td>\n",
              "      <td>258</td>\n",
              "      <td>2021-05-28</td>\n",
              "      <td>58.0</td>\n",
              "      <td>10.0</td>\n",
              "      <td>0.94</td>\n",
              "      <td>0.4019</td>\n",
              "      <td>0.000</td>\n",
              "      <td>0.426</td>\n",
              "      <td>0.574</td>\n",
              "      <td>620.039978</td>\n",
              "      <td>651.099976</td>\n",
              "      <td>620.039978</td>\n",
              "      <td>649.780029</td>\n",
              "    </tr>\n",
              "    <tr>\n",
              "      <th>259</th>\n",
              "      <td>259</td>\n",
              "      <td>259</td>\n",
              "      <td>2021-05-29</td>\n",
              "      <td>114.0</td>\n",
              "      <td>40.0</td>\n",
              "      <td>0.99</td>\n",
              "      <td>0.9676</td>\n",
              "      <td>0.021</td>\n",
              "      <td>0.915</td>\n",
              "      <td>0.064</td>\n",
              "      <td>620.039978</td>\n",
              "      <td>651.059998</td>\n",
              "      <td>620.530518</td>\n",
              "      <td>649.780029</td>\n",
              "    </tr>\n",
              "  </tbody>\n",
              "</table>\n",
              "<p>260 rows × 14 columns</p>\n",
              "</div>"
            ],
            "text/plain": [
              "     Unnamed: 0  Unnamed: 0.1        date  ...        High         Low       Close\n",
              "0             0             0  2020-09-12  ...  651.059998  620.530518  649.780029\n",
              "1             1             1  2020-09-13  ...  651.059998  620.530518  649.780029\n",
              "2             2             2  2020-09-14  ...  532.599976  505.250000  514.890015\n",
              "3             3             3  2020-09-15  ...  531.950012  513.109985  519.640015\n",
              "4             4             4  2020-09-16  ...  523.710022  500.549988  500.579987\n",
              "..          ...           ...         ...  ...         ...         ...         ...\n",
              "255         255           255  2021-05-25  ...  632.739990  619.299988  625.909973\n",
              "256         256           256  2021-05-26  ...  631.750000  623.450012  628.000000\n",
              "257         257           257  2021-05-27  ...  630.000000  618.400024  619.520020\n",
              "258         258           258  2021-05-28  ...  651.099976  620.039978  649.780029\n",
              "259         259           259  2021-05-29  ...  651.059998  620.530518  649.780029\n",
              "\n",
              "[260 rows x 14 columns]"
            ]
          },
          "metadata": {
            "tags": []
          },
          "execution_count": 3
        }
      ]
    },
    {
      "cell_type": "code",
      "metadata": {
        "colab": {
          "base_uri": "https://localhost:8080/",
          "height": 419
        },
        "id": "4Ns9EckIah0g",
        "outputId": "6d421d22-40cb-4792-d15d-b46cbae057b2"
      },
      "source": [
        "data=df[list(df)[-11:]]\n",
        "data"
      ],
      "execution_count": 4,
      "outputs": [
        {
          "output_type": "execute_result",
          "data": {
            "text/html": [
              "<div>\n",
              "<style scoped>\n",
              "    .dataframe tbody tr th:only-of-type {\n",
              "        vertical-align: middle;\n",
              "    }\n",
              "\n",
              "    .dataframe tbody tr th {\n",
              "        vertical-align: top;\n",
              "    }\n",
              "\n",
              "    .dataframe thead th {\n",
              "        text-align: right;\n",
              "    }\n",
              "</style>\n",
              "<table border=\"1\" class=\"dataframe\">\n",
              "  <thead>\n",
              "    <tr style=\"text-align: right;\">\n",
              "      <th></th>\n",
              "      <th>score</th>\n",
              "      <th>num_comments</th>\n",
              "      <th>upvotes_ratio</th>\n",
              "      <th>compound</th>\n",
              "      <th>negative</th>\n",
              "      <th>neutral</th>\n",
              "      <th>positive</th>\n",
              "      <th>Open</th>\n",
              "      <th>High</th>\n",
              "      <th>Low</th>\n",
              "      <th>Close</th>\n",
              "    </tr>\n",
              "  </thead>\n",
              "  <tbody>\n",
              "    <tr>\n",
              "      <th>0</th>\n",
              "      <td>2832.0</td>\n",
              "      <td>315.0</td>\n",
              "      <td>13.47</td>\n",
              "      <td>1.2111</td>\n",
              "      <td>0.517</td>\n",
              "      <td>15.092</td>\n",
              "      <td>1.391</td>\n",
              "      <td>620.039978</td>\n",
              "      <td>651.059998</td>\n",
              "      <td>620.530518</td>\n",
              "      <td>649.780029</td>\n",
              "    </tr>\n",
              "    <tr>\n",
              "      <th>1</th>\n",
              "      <td>3429.0</td>\n",
              "      <td>681.0</td>\n",
              "      <td>16.03</td>\n",
              "      <td>4.0118</td>\n",
              "      <td>0.635</td>\n",
              "      <td>16.966</td>\n",
              "      <td>1.399</td>\n",
              "      <td>620.039978</td>\n",
              "      <td>651.059998</td>\n",
              "      <td>620.530518</td>\n",
              "      <td>649.780029</td>\n",
              "    </tr>\n",
              "    <tr>\n",
              "      <th>2</th>\n",
              "      <td>3034.0</td>\n",
              "      <td>862.0</td>\n",
              "      <td>17.51</td>\n",
              "      <td>5.8863</td>\n",
              "      <td>0.611</td>\n",
              "      <td>20.223</td>\n",
              "      <td>1.167</td>\n",
              "      <td>523.239990</td>\n",
              "      <td>532.599976</td>\n",
              "      <td>505.250000</td>\n",
              "      <td>514.890015</td>\n",
              "    </tr>\n",
              "    <tr>\n",
              "      <th>3</th>\n",
              "      <td>2400.0</td>\n",
              "      <td>856.0</td>\n",
              "      <td>12.56</td>\n",
              "      <td>5.2287</td>\n",
              "      <td>0.265</td>\n",
              "      <td>14.853</td>\n",
              "      <td>0.882</td>\n",
              "      <td>531.200012</td>\n",
              "      <td>531.950012</td>\n",
              "      <td>513.109985</td>\n",
              "      <td>519.640015</td>\n",
              "    </tr>\n",
              "    <tr>\n",
              "      <th>4</th>\n",
              "      <td>1363.0</td>\n",
              "      <td>353.0</td>\n",
              "      <td>7.54</td>\n",
              "      <td>2.2566</td>\n",
              "      <td>0.191</td>\n",
              "      <td>9.412</td>\n",
              "      <td>0.397</td>\n",
              "      <td>518.289978</td>\n",
              "      <td>523.710022</td>\n",
              "      <td>500.549988</td>\n",
              "      <td>500.579987</td>\n",
              "    </tr>\n",
              "    <tr>\n",
              "      <th>...</th>\n",
              "      <td>...</td>\n",
              "      <td>...</td>\n",
              "      <td>...</td>\n",
              "      <td>...</td>\n",
              "      <td>...</td>\n",
              "      <td>...</td>\n",
              "      <td>...</td>\n",
              "      <td>...</td>\n",
              "      <td>...</td>\n",
              "      <td>...</td>\n",
              "      <td>...</td>\n",
              "    </tr>\n",
              "    <tr>\n",
              "      <th>255</th>\n",
              "      <td>35.0</td>\n",
              "      <td>14.0</td>\n",
              "      <td>0.89</td>\n",
              "      <td>0.7783</td>\n",
              "      <td>0.000</td>\n",
              "      <td>0.924</td>\n",
              "      <td>0.076</td>\n",
              "      <td>630.640015</td>\n",
              "      <td>632.739990</td>\n",
              "      <td>619.299988</td>\n",
              "      <td>625.909973</td>\n",
              "    </tr>\n",
              "    <tr>\n",
              "      <th>256</th>\n",
              "      <td>58.0</td>\n",
              "      <td>10.0</td>\n",
              "      <td>0.94</td>\n",
              "      <td>0.4019</td>\n",
              "      <td>0.000</td>\n",
              "      <td>0.426</td>\n",
              "      <td>0.574</td>\n",
              "      <td>629.369995</td>\n",
              "      <td>631.750000</td>\n",
              "      <td>623.450012</td>\n",
              "      <td>628.000000</td>\n",
              "    </tr>\n",
              "    <tr>\n",
              "      <th>257</th>\n",
              "      <td>58.0</td>\n",
              "      <td>10.0</td>\n",
              "      <td>0.94</td>\n",
              "      <td>0.4019</td>\n",
              "      <td>0.000</td>\n",
              "      <td>0.426</td>\n",
              "      <td>0.574</td>\n",
              "      <td>627.989990</td>\n",
              "      <td>630.000000</td>\n",
              "      <td>618.400024</td>\n",
              "      <td>619.520020</td>\n",
              "    </tr>\n",
              "    <tr>\n",
              "      <th>258</th>\n",
              "      <td>58.0</td>\n",
              "      <td>10.0</td>\n",
              "      <td>0.94</td>\n",
              "      <td>0.4019</td>\n",
              "      <td>0.000</td>\n",
              "      <td>0.426</td>\n",
              "      <td>0.574</td>\n",
              "      <td>620.039978</td>\n",
              "      <td>651.099976</td>\n",
              "      <td>620.039978</td>\n",
              "      <td>649.780029</td>\n",
              "    </tr>\n",
              "    <tr>\n",
              "      <th>259</th>\n",
              "      <td>114.0</td>\n",
              "      <td>40.0</td>\n",
              "      <td>0.99</td>\n",
              "      <td>0.9676</td>\n",
              "      <td>0.021</td>\n",
              "      <td>0.915</td>\n",
              "      <td>0.064</td>\n",
              "      <td>620.039978</td>\n",
              "      <td>651.059998</td>\n",
              "      <td>620.530518</td>\n",
              "      <td>649.780029</td>\n",
              "    </tr>\n",
              "  </tbody>\n",
              "</table>\n",
              "<p>260 rows × 11 columns</p>\n",
              "</div>"
            ],
            "text/plain": [
              "      score  num_comments  upvotes_ratio  ...        High         Low       Close\n",
              "0    2832.0         315.0          13.47  ...  651.059998  620.530518  649.780029\n",
              "1    3429.0         681.0          16.03  ...  651.059998  620.530518  649.780029\n",
              "2    3034.0         862.0          17.51  ...  532.599976  505.250000  514.890015\n",
              "3    2400.0         856.0          12.56  ...  531.950012  513.109985  519.640015\n",
              "4    1363.0         353.0           7.54  ...  523.710022  500.549988  500.579987\n",
              "..      ...           ...            ...  ...         ...         ...         ...\n",
              "255    35.0          14.0           0.89  ...  632.739990  619.299988  625.909973\n",
              "256    58.0          10.0           0.94  ...  631.750000  623.450012  628.000000\n",
              "257    58.0          10.0           0.94  ...  630.000000  618.400024  619.520020\n",
              "258    58.0          10.0           0.94  ...  651.099976  620.039978  649.780029\n",
              "259   114.0          40.0           0.99  ...  651.059998  620.530518  649.780029\n",
              "\n",
              "[260 rows x 11 columns]"
            ]
          },
          "metadata": {
            "tags": []
          },
          "execution_count": 4
        }
      ]
    },
    {
      "cell_type": "code",
      "metadata": {
        "colab": {
          "base_uri": "https://localhost:8080/",
          "height": 0
        },
        "id": "_frDFTtMZxOW",
        "outputId": "232af812-5f08-4b7b-f894-06d0d474fd40"
      },
      "source": [
        "from statsmodels.tsa.vector_ar.vecm import coint_johansen\n",
        "coint_johansen(data,-1,1).eig"
      ],
      "execution_count": 5,
      "outputs": [
        {
          "output_type": "stream",
          "text": [
            "/usr/local/lib/python3.7/dist-packages/statsmodels/tools/_testing.py:19: FutureWarning: pandas.util.testing is deprecated. Use the functions in the public API at pandas.testing instead.\n",
            "  import pandas.util.testing as tm\n"
          ],
          "name": "stderr"
        },
        {
          "output_type": "execute_result",
          "data": {
            "text/plain": [
              "array([5.91330326e-01, 4.69048420e-01, 3.96405796e-01, 3.87154225e-01,\n",
              "       3.33656871e-01, 3.13361787e-01, 2.97698231e-01, 2.50175417e-01,\n",
              "       1.45059272e-01, 2.85065876e-02, 1.50395683e-04])"
            ]
          },
          "metadata": {
            "tags": []
          },
          "execution_count": 5
        }
      ]
    },
    {
      "cell_type": "code",
      "metadata": {
        "colab": {
          "base_uri": "https://localhost:8080/",
          "height": 0
        },
        "id": "wUmDOFnQavnV",
        "outputId": "b2b03ece-a50c-4390-cdbc-4dc3fe8db352"
      },
      "source": [
        "train = data[:int(0.8*(len(data)))]\n",
        "valid = data[int(0.8*(len(data))):]\n",
        "\n",
        "#fit the model\n",
        "from statsmodels.tsa.vector_ar.var_model import VAR\n",
        "\n",
        "model = VAR(endog=train)\n",
        "model_fit = model.fit()\n",
        "\n",
        "# make prediction on validation\n",
        "prediction = model_fit.forecast(model_fit.y, steps=len(valid))"
      ],
      "execution_count": 14,
      "outputs": [
        {
          "output_type": "stream",
          "text": [
            "/usr/local/lib/python3.7/dist-packages/statsmodels/base/wrapper.py:35: FutureWarning: y is a deprecated alias for endog, will be removed in version 0.11.0\n",
            "  obj = getattr(results, attr)\n"
          ],
          "name": "stderr"
        }
      ]
    },
    {
      "cell_type": "code",
      "metadata": {
        "colab": {
          "base_uri": "https://localhost:8080/",
          "height": 0
        },
        "id": "wSvww_KEa7kR",
        "outputId": "1a443289-55d8-4be3-a39b-ed3f4d710325"
      },
      "source": [
        "prediction[:,-1].shape"
      ],
      "execution_count": 29,
      "outputs": [
        {
          "output_type": "execute_result",
          "data": {
            "text/plain": [
              "(52,)"
            ]
          },
          "metadata": {
            "tags": []
          },
          "execution_count": 29
        }
      ]
    },
    {
      "cell_type": "code",
      "metadata": {
        "colab": {
          "base_uri": "https://localhost:8080/",
          "height": 265
        },
        "id": "KcHWVF37e1Xa",
        "outputId": "3010063c-7bc1-4d7c-90b4-f9a25fed3cb6"
      },
      "source": [
        "plt.plot(prediction[:,-1],label=\"Predicted\")\n",
        "plt.plot(range(len(valid)),valid[\"Close\"],label=\"Actual\")\n",
        "plt.legend()\n",
        "plt.show()"
      ],
      "execution_count": 41,
      "outputs": [
        {
          "output_type": "display_data",
          "data": {
            "image/png": "[encoded data removed]",
            "text/plain": [
              "<Figure size 432x288 with 1 Axes>"
            ]
          },
          "metadata": {
            "tags": [],
            "needs_background": "light"
          }
        }
      ]
    },
    {
      "cell_type": "code",
      "metadata": {
        "id": "RS3hdIptfwaf"
      },
      "source": [
        ""
      ],
      "execution_count": null,
      "outputs": []
    }
  ]
}