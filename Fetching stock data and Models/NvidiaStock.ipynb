{
  "nbformat": 4,
  "nbformat_minor": 0,
  "metadata": {
    "colab": {
      "name": "NvidiaStock.ipynb",
      "provenance": []
    },
    "kernelspec": {
      "name": "python3",
      "display_name": "Python 3"
    },
    "language_info": {
      "name": "python"
    }
  },
  "cells": [
    {
      "cell_type": "code",
      "metadata": {
        "colab": {
          "base_uri": "https://localhost:8080/"
        },
        "id": "aoDWDpqG2ej7",
        "outputId": "bc333177-60d2-4ca5-c397-183c448dcfec"
      },
      "source": [
        "!pip install yfinance"
      ],
      "execution_count": 46,
      "outputs": [
        {
          "output_type": "stream",
          "text": [
            "Requirement already satisfied: yfinance in /usr/local/lib/python3.7/dist-packages (0.1.59)\n",
            "Requirement already satisfied: requests>=2.20 in /usr/local/lib/python3.7/dist-packages (from yfinance) (2.23.0)\n",
            "Requirement already satisfied: numpy>=1.15 in /usr/local/lib/python3.7/dist-packages (from yfinance) (1.19.5)\n",
            "Requirement already satisfied: pandas>=0.24 in /usr/local/lib/python3.7/dist-packages (from yfinance) (1.1.5)\n",
            "Requirement already satisfied: multitasking>=0.0.7 in /usr/local/lib/python3.7/dist-packages (from yfinance) (0.0.9)\n",
            "Requirement already satisfied: lxml>=4.5.1 in /usr/local/lib/python3.7/dist-packages (from yfinance) (4.6.3)\n",
            "Requirement already satisfied: certifi>=2017.4.17 in /usr/local/lib/python3.7/dist-packages (from requests>=2.20->yfinance) (2020.12.5)\n",
            "Requirement already satisfied: idna<3,>=2.5 in /usr/local/lib/python3.7/dist-packages (from requests>=2.20->yfinance) (2.10)\n",
            "Requirement already satisfied: chardet<4,>=3.0.2 in /usr/local/lib/python3.7/dist-packages (from requests>=2.20->yfinance) (3.0.4)\n",
            "Requirement already satisfied: urllib3!=1.25.0,!=1.25.1,<1.26,>=1.21.1 in /usr/local/lib/python3.7/dist-packages (from requests>=2.20->yfinance) (1.24.3)\n",
            "Requirement already satisfied: pytz>=2017.2 in /usr/local/lib/python3.7/dist-packages (from pandas>=0.24->yfinance) (2018.9)\n",
            "Requirement already satisfied: python-dateutil>=2.7.3 in /usr/local/lib/python3.7/dist-packages (from pandas>=0.24->yfinance) (2.8.1)\n",
            "Requirement already satisfied: six>=1.5 in /usr/local/lib/python3.7/dist-packages (from python-dateutil>=2.7.3->pandas>=0.24->yfinance) (1.15.0)\n"
          ],
          "name": "stdout"
        }
      ]
    },
    {
      "cell_type": "code",
      "metadata": {
        "colab": {
          "base_uri": "https://localhost:8080/"
        },
        "id": "jx4iYsXqBCFE",
        "outputId": "ba66e7a7-af5c-446b-f070-64cb442e5ea6"
      },
      "source": [
        "!pip install yahoofinancials"
      ],
      "execution_count": 47,
      "outputs": [
        {
          "output_type": "stream",
          "text": [
            "Requirement already satisfied: yahoofinancials in /usr/local/lib/python3.7/dist-packages (1.6)\n",
            "Requirement already satisfied: pytz in /usr/local/lib/python3.7/dist-packages (from yahoofinancials) (2018.9)\n",
            "Requirement already satisfied: beautifulsoup4 in /usr/local/lib/python3.7/dist-packages (from yahoofinancials) (4.6.3)\n"
          ],
          "name": "stdout"
        }
      ]
    },
    {
      "cell_type": "code",
      "metadata": {
        "id": "i1GnS81cA4Zx"
      },
      "source": [
        "import pandas as pd\n",
        "import numpy as np\n",
        "import yfinance as yf\n",
        "from yahoofinancials import YahooFinancials"
      ],
      "execution_count": 1,
      "outputs": []
    },
    {
      "cell_type": "code",
      "metadata": {
        "id": "W70Z2WDnA48J"
      },
      "source": [
        "df = pd.read_csv(\"NVIDIA_sent1.csv\")"
      ],
      "execution_count": 2,
      "outputs": []
    },
    {
      "cell_type": "code",
      "metadata": {
        "id": "UQsMDXTTBRgU"
      },
      "source": [
        "df['date'] = pd.to_datetime(df['date']).dt.date"
      ],
      "execution_count": 3,
      "outputs": []
    },
    {
      "cell_type": "code",
      "metadata": {
        "id": "aJE-NjseBQg4"
      },
      "source": [
        "import datetime\n",
        "tsla_df = yf.download('NVDA', \n",
        "                      start=df[\"date\"].iloc[6],\n",
        "                      #end=df[\"date\"].iloc[6]+ datetime.timedelta(days =1),\n",
        "                      progress=False)"
      ],
      "execution_count": 5,
      "outputs": []
    },
    {
      "cell_type": "code",
      "metadata": {
        "id": "uFxUfHqZRPCW"
      },
      "source": [
        "l=[]\n",
        "nan=[np.nan]*6\n",
        "for i in range(len(df[\"date\"])):\n",
        "  k=yf.download('NVDA', \n",
        "                      start=df[\"date\"].iloc[i],\n",
        "                      end=df[\"date\"].iloc[i]+ datetime.timedelta(days =1),\n",
        "                      progress=False)\n",
        "  if len(k) == 0:\n",
        "    l.append(nan)\n",
        "  else:\n",
        "    l.append(list(k.iloc[0]))"
      ],
      "execution_count": null,
      "outputs": []
    },
    {
      "cell_type": "code",
      "metadata": {
        "id": "r7xrRSzmTVgC"
      },
      "source": [
        "mn=pd.DataFrame(l,columns=list(k))\n",
        "ind=[]\n",
        "for i in range(len(mn)):\n",
        "  if mn.iloc[i].isna()[\"Close\"]:\n",
        "    ind.append(i)"
      ],
      "execution_count": 7,
      "outputs": []
    },
    {
      "cell_type": "code",
      "metadata": {
        "colab": {
          "base_uri": "https://localhost:8080/"
        },
        "id": "rbEDVud9Ck_3",
        "outputId": "1cba1214-c443-4a15-bb43-1db0711bcc8f"
      },
      "source": [
        "mn2=mn\n",
        "for i in range(len(mn2)):\n",
        "  if mn2.iloc[i].isna()[\"Close\"]:\n",
        "    mn2.iloc[i] = mn2.iloc[i-1]\n",
        "mn2.isna().sum()"
      ],
      "execution_count": 8,
      "outputs": [
        {
          "output_type": "execute_result",
          "data": {
            "text/plain": [
              "Open         0\n",
              "High         0\n",
              "Low          0\n",
              "Close        0\n",
              "Adj Close    0\n",
              "Volume       0\n",
              "dtype: int64"
            ]
          },
          "metadata": {
            "tags": []
          },
          "execution_count": 8
        }
      ]
    },
    {
      "cell_type": "code",
      "metadata": {
        "id": "oGcQebtJX0Ri"
      },
      "source": [
        "frames = [df, mn2[list(mn2)[:4]]]\n",
        "\n",
        "result = pd.concat(frames,axis=1)"
      ],
      "execution_count": 9,
      "outputs": []
    },
    {
      "cell_type": "code",
      "metadata": {
        "id": "Z2i6WnzXYMGz"
      },
      "source": [
        "result.to_csv(\"NVIDIA_Stock\")"
      ],
      "execution_count": 11,
      "outputs": []
    },
    {
      "cell_type": "code",
      "metadata": {
        "id": "qh2iUdV_YNC2"
      },
      "source": [
        ""
      ],
      "execution_count": null,
      "outputs": []
    }
  ]
}